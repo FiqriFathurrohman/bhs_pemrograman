{
 "cells": [
  {
   "cell_type": "code",
   "execution_count": 1,
   "metadata": {},
   "outputs": [
    {
     "ename": "ModuleNotFoundError",
     "evalue": "No module named 'dash'",
     "output_type": "error",
     "traceback": [
      "\u001b[1;31m---------------------------------------------------------------------------\u001b[0m",
      "\u001b[1;31mModuleNotFoundError\u001b[0m                       Traceback (most recent call last)",
      "Cell \u001b[1;32mIn[1], line 1\u001b[0m\n\u001b[1;32m----> 1\u001b[0m \u001b[38;5;28;01mfrom\u001b[39;00m \u001b[38;5;21;01mdash\u001b[39;00m \u001b[38;5;28;01mimport\u001b[39;00m Dash, dcc, html, Input, Output\n",
      "\u001b[1;31mModuleNotFoundError\u001b[0m: No module named 'dash'"
     ]
    }
   ],
   "source": [
    "def add(x, y):\n",
    "    return x + y\n",
    "\n",
    "def subtract(x, y):\n",
    "    return x - y\n",
    "\n",
    "def multiply(x, y):\n",
    "    return x * y\n",
    "\n",
    "def divide(x, y):\n",
    "    if y == 0:\n",
    "        return \"Error! Division by zero.\"\n",
    "    return x / y\n",
    "\n",
    "def calculator():\n",
    "    print(\"Pilih operasi:\")\n",
    "    print(\"1. Penjumlahan\")\n",
    "    print(\"2. Pengurangan\")\n",
    "    print(\"3. Perkalian\")\n",
    "    print(\"4. Pembagian\")\n",
    "\n",
    "    while True:\n",
    "        choice = input(\"Masukkan pilihan (1/2/3/4): \")\n",
    "\n",
    "        if choice in ['1', '2', '3', '4']:\n",
    "            try:\n",
    "                num1 = float(input(\"Masukkan angka pertama: \"))\n",
    "                num2 = float(input(\"Masukkan angka kedua: \"))\n",
    "            except ValueError:\n",
    "                print(\"Input tidak valid! Harap masukkan angka.\")\n",
    "                continue\n",
    "\n",
    "            if choice == '1':\n",
    "                print(f\"Hasil: {num1} + {num2} = {add(num1, num2)}\")\n",
    "            elif choice == '2':\n",
    "                print(f\"Hasil: {num1} - {num2} = {subtract(num1, num2)}\")\n",
    "            elif choice == '3':\n",
    "                print(f\"Hasil: {num1} * {num2} = {multiply(num1, num2)}\")\n",
    "            elif choice == '4':\n",
    "                result = divide(num1, num2)\n",
    "                if result == \"Error! Division by zero.\":\n",
    "                    print(result)\n",
    "                else:\n",
    "                    print(f\"Hasil: {num1} / {num2} = {result}\")\n",
    "\n",
    "            next_calculation = input(\"Ingin melakukan perhitungan lagi? (ya/tidak): \")\n",
    "            if next_calculation.lower() != 'ya':\n",
    "                break\n",
    "        else:\n",
    "            print(\"Pilihan tidak valid! Harap masukkan pilihan yang benar.\")\n",
    "\n",
    "if __name__ == \"__main__\":\n",
    "    calculator()\n"
   ]
  },
  {
   "cell_type": "code",
   "execution_count": null,
   "metadata": {},
   "outputs": [],
   "source": []
  }
 ],
 "metadata": {
  "kernelspec": {
   "display_name": "Python 3",
   "language": "python",
   "name": "python3"
  },
  "language_info": {
   "codemirror_mode": {
    "name": "ipython",
    "version": 3
   },
   "file_extension": ".py",
   "mimetype": "text/x-python",
   "name": "python",
   "nbconvert_exporter": "python",
   "pygments_lexer": "ipython3",
   "version": "undefined.undefined.undefined"
  }
 },
 "nbformat": 4,
 "nbformat_minor": 2
}
